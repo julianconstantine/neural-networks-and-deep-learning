{
 "cells": [
  {
   "cell_type": "code",
   "execution_count": 1,
   "metadata": {
    "collapsed": false
   },
   "outputs": [],
   "source": [
    "import matplotlib.pyplot as plt\n",
    "import numpy as np\n",
    "\n",
    "%matplotlib inline"
   ]
  },
  {
   "cell_type": "code",
   "execution_count": 2,
   "metadata": {
    "collapsed": false
   },
   "outputs": [],
   "source": [
    "N = 1000\n",
    "\n",
    "# Generate a random N-vector of standard normal distribution, then multiply by N\n",
    "a = np.random.randn(N)\n",
    "\n",
    "# Create a positive semidefinite matrix A\n",
    "A = np.outer(a, a)\n",
    "\n",
    "def f(x):\n",
    "    return A*x\n",
    "\n",
    "x = np.random.randn(N)\n",
    "\n",
    "def f(x): \n",
    "    return np.dot(x, np.dot(A, x))\n",
    "\n",
    "def grad_f(x):\n",
    "    return 2*np.dot(x, A)\n",
    "\n",
    "def hess_f(x):\n",
    "    return 2*A"
   ]
  },
  {
   "cell_type": "code",
   "execution_count": 3,
   "metadata": {
    "collapsed": false
   },
   "outputs": [
    {
     "name": "stdout",
     "output_type": "stream",
     "text": [
      "145.917718828\n",
      "736.983644233\n"
     ]
    }
   ],
   "source": [
    "y = np.random.randn(N)\n",
    "\n",
    "print(f(y))\n",
    "print(np.linalg.norm(grad_f(y)))"
   ]
  },
  {
   "cell_type": "code",
   "execution_count": 4,
   "metadata": {
    "collapsed": false
   },
   "outputs": [],
   "source": [
    "# Gradient descent\n",
    "def gradient_descent(f, grad_f, x_init, eta, tolerance, verbose=False):\n",
    "    x_history = []\n",
    "\n",
    "    x_old = x_init\n",
    "    x_history.append(x_old)\n",
    "\n",
    "    counter = 0\n",
    "\n",
    "    while np.linalg.norm(grad_f(x_old)) > tolerance:\n",
    "        x_new = x_old - eta*grad_f(x_old)\n",
    "        x_history.append(x_new)\n",
    "\n",
    "        x_old = x_new\n",
    "        counter += 1\n",
    "\n",
    "        if verbose and counter % 100 == 0:\n",
    "            print(counter, f(x_old))\n",
    "    \n",
    "    return counter, x_history\n",
    "\n",
    "num_iterations, x_history = gradient_descent(f, grad_f, x_init=np.random.randn(N), eta=0.1/N, tolerance=1e-9)"
   ]
  },
  {
   "cell_type": "code",
   "execution_count": 5,
   "metadata": {
    "collapsed": false
   },
   "outputs": [],
   "source": [
    "# Track function value per iteration\n",
    "f_history = [f(x) for x in x_history]"
   ]
  },
  {
   "cell_type": "code",
   "execution_count": 6,
   "metadata": {
    "collapsed": false
   },
   "outputs": [
    {
     "data": {
      "text/plain": [
       "[<matplotlib.lines.Line2D at 0x107adab38>]"
      ]
     },
     "execution_count": 6,
     "metadata": {},
     "output_type": "execute_result"
    },
    {
     "data": {
      "image/png": "[encoded data removed]",
      "text/plain": [
       "<matplotlib.figure.Figure at 0x107a7d080>"
      ]
     },
     "metadata": {},
     "output_type": "display_data"
    }
   ],
   "source": [
    "plt.plot(list(range(num_iterations+1)), f_history)"
   ]
  },
  {
   "cell_type": "code",
   "execution_count": 7,
   "metadata": {
    "collapsed": false
   },
   "outputs": [
    {
     "name": "stdout",
     "output_type": "stream",
     "text": [
      "69\n"
     ]
    }
   ],
   "source": [
    "# Gradient descent\n",
    "def momentum_GD(f, grad_f, x_init, eta, mu, tolerance, verbose=False):\n",
    "    x_history, v_history = [], []\n",
    "    \n",
    "    x_old = x_init\n",
    "    v_old = np.random.randn(len(x_init))\n",
    "    \n",
    "    x_history.append(x_old)\n",
    "    v_history.append(v_old)\n",
    "\n",
    "    counter = 0\n",
    "\n",
    "    while np.linalg.norm(grad_f(x_old)) > tolerance:\n",
    "        v_new = mu*v_old - eta*grad_f(x_old)\n",
    "        x_new = x_old + v_new\n",
    "        \n",
    "        x_history.append(x_new)\n",
    "        v_history.append(v_new)\n",
    "        \n",
    "        x_old = x_new\n",
    "        v_old = v_new\n",
    "        \n",
    "        counter += 1\n",
    "\n",
    "        if verbose and counter % 100 == 0:\n",
    "            print(counter, f(x_old))\n",
    "    \n",
    "    return counter, x_history, v_history\n",
    "\n",
    "n_iters, x_history, v_history = momentum_GD(f, grad_f, x_init=np.random.randn(N), eta=0.1/N, \n",
    "                                            mu=0.5, tolerance=1e-9)\n",
    "\n",
    "print(n_iters)"
   ]
  },
  {
   "cell_type": "code",
   "execution_count": 8,
   "metadata": {
    "collapsed": false
   },
   "outputs": [
    {
     "data": {
      "text/plain": [
       "[<matplotlib.lines.Line2D at 0x108b8a630>]"
      ]
     },
     "execution_count": 8,
     "metadata": {},
     "output_type": "execute_result"
    },
    {
     "data": {
      "image/png": "[encoded data removed]",
      "text/plain": [
       "<matplotlib.figure.Figure at 0x108b38828>"
      ]
     },
     "metadata": {},
     "output_type": "display_data"
    }
   ],
   "source": [
    "f_history = [f(x) for x in x_history]\n",
    "\n",
    "plt.plot(list(range(n_iters+1)), f_history)"
   ]
  },
  {
   "cell_type": "code",
   "execution_count": 13,
   "metadata": {
    "collapsed": false
   },
   "outputs": [
    {
     "name": "stdout",
     "output_type": "stream",
     "text": [
      "100 116.7 71.2\n",
      "200 116.4 73.5\n",
      "300 117.9 75.4\n",
      "400 122.0 77.0\n",
      "500 118.7 78.3\n",
      "600 124.1 78.8\n",
      "700 125.3 78.1\n",
      "800 122.1 78.6\n",
      "900 127.2 75.6\n",
      "1000 123.3 80.6\n",
      "2000 127.9 80.8\n",
      "3000 130.6 80.1\n",
      "4000 130.1 83.1\n",
      "5000 135.1 83.3\n",
      "6000 132.2 84.1\n",
      "7000 132.7 84.7\n",
      "8000 135.7 86.3\n",
      "9000 133.6 85.2\n",
      "10000 135.4 86.9\n"
     ]
    }
   ],
   "source": [
    "#######################\n",
    "#  RUN AN EXPERIMENT  #\n",
    "#######################\n",
    "\n",
    "import time\n",
    "\n",
    "# For different values of N, plot the number of iterations required for convergence of regular\n",
    "# gradient descent and momentum-based gradient descent\n",
    "\n",
    "n_values = [100, 200, 300, 400, 500, 600, 700, 800, 900, 1000,\n",
    "            2000, 3000, 4000, 5000, 6000, 7000, 8000, 9000, 10000]\n",
    "\n",
    "iterations = []\n",
    "iterations_mgd = []\n",
    "\n",
    "runtime = []\n",
    "runtime_mgd = []\n",
    "\n",
    "num_trials = 10\n",
    "\n",
    "for n in n_values:\n",
    "    # Run gradient descent 100 times\n",
    "    n_iters = [0]*num_trials\n",
    "    comp_time = [0]*num_trials\n",
    "    \n",
    "    for i in range(num_trials):\n",
    "        # Generate a random n-vector of standard normal distribution, then multiply by N\n",
    "        a = np.random.randn(n)\n",
    "\n",
    "        # Create a positive semidefinite matrix A\n",
    "        A = np.outer(a, a)\n",
    "\n",
    "        def f(x): \n",
    "            return np.dot(x, np.dot(A, x))\n",
    "\n",
    "        def grad_f(x):\n",
    "            return 2*np.dot(x, A)\n",
    "\n",
    "        def hess_f(x):\n",
    "            return 2*A\n",
    "        \n",
    "        t0 = time.clock()\n",
    "        \n",
    "        n_iters[i], _ = gradient_descent(f, grad_f, x_init=np.random.randn(n), eta=0.1/n, \n",
    "                                         tolerance=1e-9)\n",
    "        \n",
    "        t = time.clock()\n",
    "        \n",
    "        comp_time[i] = t - t0\n",
    "        \n",
    "    # Run momentum-based gradient descent 100 times\n",
    "    n_iters_mgd = [0]*num_trials\n",
    "    comp_time_mgd = [0]*num_trials\n",
    "    \n",
    "    for i in range(num_trials):\n",
    "        # Generate a random n-vector of standard normal distribution, then multiply by N\n",
    "        a = np.random.randn(n)\n",
    "\n",
    "        # Create a positive semidefinite matrix A\n",
    "        A = np.outer(a, a)\n",
    "\n",
    "        def f(x): \n",
    "            return np.dot(x, np.dot(A, x))\n",
    "\n",
    "        def grad_f(x):\n",
    "            return 2*np.dot(x, A)\n",
    "\n",
    "        def hess_f(x):\n",
    "            return 2*A\n",
    "        \n",
    "        t0 = time.clock()\n",
    "        \n",
    "        n_iters_mgd[i], _, _ = momentum_GD(f, grad_f, x_init=np.random.randn(n), eta=0.1/n, \n",
    "                                           mu=0.5, tolerance=1e-9)\n",
    "    \n",
    "        t = time.clock()\n",
    "        \n",
    "        comp_time_mgd[i] = t - t0\n",
    "    \n",
    "    iterations.append(np.mean(n_iters))\n",
    "    runtime.append(np.mean(comp_time))\n",
    "    \n",
    "    iterations_mgd.append(np.mean(n_iters_mgd))\n",
    "    runtime_mgd.append(np.mean(comp_time_mgd))\n",
    "    \n",
    "    print(n, np.mean(n_iters), np.mean(n_iters_mgd))"
   ]
  },
  {
   "cell_type": "code",
   "execution_count": 24,
   "metadata": {
    "collapsed": false
   },
   "outputs": [
    {
     "data": {
      "text/plain": [
       "<matplotlib.legend.Legend at 0x153947c88>"
      ]
     },
     "execution_count": 24,
     "metadata": {},
     "output_type": "execute_result"
    },
    {
     "data": {
      "image/png": "[encoded data removed]",
      "text/plain": [
       "<matplotlib.figure.Figure at 0x15384a5c0>"
      ]
     },
     "metadata": {},
     "output_type": "display_data"
    }
   ],
   "source": [
    "plt.plot(n_values, iterations, 'b-', label=\"Regular GD\")\n",
    "plt.plot(n_values, iterations_mgd, 'r', label=\"Momentum GD\")\n",
    "plt.xlabel(\"Dimension of matrix (N)\")\n",
    "plt.ylabel(\"Iterations to converge\")\n",
    "plt.ylim((0, 180))\n",
    "plt.legend()"
   ]
  },
  {
   "cell_type": "code",
   "execution_count": 19,
   "metadata": {
    "collapsed": false
   },
   "outputs": [
    {
     "data": {
      "text/plain": [
       "<matplotlib.legend.Legend at 0x1186a6cf8>"
      ]
     },
     "execution_count": 19,
     "metadata": {},
     "output_type": "execute_result"
    },
    {
     "data": {
      "image/png": "[encoded data removed]",
      "text/plain": [
       "<matplotlib.figure.Figure at 0x1183d6b70>"
      ]
     },
     "metadata": {},
     "output_type": "display_data"
    }
   ],
   "source": [
    "plt.plot(n_values, runtime, 'b-', label='Regular GD')\n",
    "plt.plot(n_values, runtime_mgd, 'r-', label='Momentum GD')\n",
    "plt.xlabel(\"Dimension of input (N)\")\n",
    "plt.ylabel(\"Average runtime (s)\")\n",
    "plt.legend()"
   ]
  },
  {
   "cell_type": "code",
   "execution_count": 63,
   "metadata": {
    "collapsed": false
   },
   "outputs": [
    {
     "ename": "KeyboardInterrupt",
     "evalue": "",
     "output_type": "error",
     "traceback": [
      "\u001b[0;31m---------------------------------------------------------------------------\u001b[0m",
      "\u001b[0;31mKeyboardInterrupt\u001b[0m                         Traceback (most recent call last)",
      "\u001b[0;32m<ipython-input-63-4bc941957416>\u001b[0m in \u001b[0;36m<module>\u001b[0;34m()\u001b[0m\n\u001b[1;32m     20\u001b[0m     \u001b[0;32mreturn\u001b[0m \u001b[0mcounter\u001b[0m\u001b[0;34m,\u001b[0m \u001b[0mx_history\u001b[0m\u001b[0;34m\u001b[0m\u001b[0m\n\u001b[1;32m     21\u001b[0m \u001b[0;34m\u001b[0m\u001b[0m\n\u001b[0;32m---> 22\u001b[0;31m \u001b[0mnum_iterations\u001b[0m\u001b[0;34m,\u001b[0m \u001b[0mx_history\u001b[0m \u001b[0;34m=\u001b[0m \u001b[0mhessian_opt\u001b[0m\u001b[0;34m(\u001b[0m\u001b[0mf\u001b[0m\u001b[0;34m,\u001b[0m \u001b[0mgrad_f\u001b[0m\u001b[0;34m,\u001b[0m \u001b[0mx_init\u001b[0m\u001b[0;34m=\u001b[0m\u001b[0mnp\u001b[0m\u001b[0;34m.\u001b[0m\u001b[0mrandom\u001b[0m\u001b[0;34m.\u001b[0m\u001b[0mrandn\u001b[0m\u001b[0;34m(\u001b[0m\u001b[0mN\u001b[0m\u001b[0;34m)\u001b[0m\u001b[0;34m,\u001b[0m \u001b[0meta\u001b[0m\u001b[0;34m=\u001b[0m\u001b[0;36m0.1\u001b[0m\u001b[0;34m/\u001b[0m\u001b[0mN\u001b[0m\u001b[0;34m,\u001b[0m \u001b[0mtolerance\u001b[0m\u001b[0;34m=\u001b[0m\u001b[0;36m1e-9\u001b[0m\u001b[0;34m)\u001b[0m\u001b[0;34m\u001b[0m\u001b[0m\n\u001b[0m",
      "\u001b[0;32m<ipython-input-63-4bc941957416>\u001b[0m in \u001b[0;36mhessian_opt\u001b[0;34m(f, grad_f, x_init, eta, tolerance, verbose)\u001b[0m\n\u001b[1;32m      9\u001b[0m \u001b[0;34m\u001b[0m\u001b[0m\n\u001b[1;32m     10\u001b[0m     \u001b[0;32mwhile\u001b[0m \u001b[0mnp\u001b[0m\u001b[0;34m.\u001b[0m\u001b[0mlinalg\u001b[0m\u001b[0;34m.\u001b[0m\u001b[0mnorm\u001b[0m\u001b[0;34m(\u001b[0m\u001b[0mgrad_f\u001b[0m\u001b[0;34m(\u001b[0m\u001b[0mx_old\u001b[0m\u001b[0;34m)\u001b[0m\u001b[0;34m)\u001b[0m \u001b[0;34m>\u001b[0m \u001b[0mtolerance\u001b[0m\u001b[0;34m:\u001b[0m\u001b[0;34m\u001b[0m\u001b[0m\n\u001b[0;32m---> 11\u001b[0;31m         \u001b[0mx_new\u001b[0m \u001b[0;34m=\u001b[0m \u001b[0mx_old\u001b[0m \u001b[0;34m-\u001b[0m \u001b[0meta\u001b[0m\u001b[0;34m*\u001b[0m\u001b[0mnp\u001b[0m\u001b[0;34m.\u001b[0m\u001b[0mdot\u001b[0m\u001b[0;34m(\u001b[0m\u001b[0mnp\u001b[0m\u001b[0;34m.\u001b[0m\u001b[0mlinalg\u001b[0m\u001b[0;34m.\u001b[0m\u001b[0minv\u001b[0m\u001b[0;34m(\u001b[0m\u001b[0mhess_f\u001b[0m\u001b[0;34m(\u001b[0m\u001b[0mx_old\u001b[0m\u001b[0;34m)\u001b[0m\u001b[0;34m)\u001b[0m\u001b[0;34m,\u001b[0m \u001b[0mgrad_f\u001b[0m\u001b[0;34m(\u001b[0m\u001b[0mx_old\u001b[0m\u001b[0;34m)\u001b[0m\u001b[0;34m)\u001b[0m\u001b[0;34m\u001b[0m\u001b[0m\n\u001b[0m\u001b[1;32m     12\u001b[0m         \u001b[0mx_history\u001b[0m\u001b[0;34m.\u001b[0m\u001b[0mappend\u001b[0m\u001b[0;34m(\u001b[0m\u001b[0mx_new\u001b[0m\u001b[0;34m)\u001b[0m\u001b[0;34m\u001b[0m\u001b[0m\n\u001b[1;32m     13\u001b[0m \u001b[0;34m\u001b[0m\u001b[0m\n",
      "\u001b[0;32m/Library/Frameworks/Python.framework/Versions/3.5/lib/python3.5/site-packages/numpy/linalg/linalg.py\u001b[0m in \u001b[0;36minv\u001b[0;34m(a)\u001b[0m\n\u001b[1;32m    524\u001b[0m     \u001b[0msignature\u001b[0m \u001b[0;34m=\u001b[0m \u001b[0;34m'D->D'\u001b[0m \u001b[0;32mif\u001b[0m \u001b[0misComplexType\u001b[0m\u001b[0;34m(\u001b[0m\u001b[0mt\u001b[0m\u001b[0;34m)\u001b[0m \u001b[0;32melse\u001b[0m \u001b[0;34m'd->d'\u001b[0m\u001b[0;34m\u001b[0m\u001b[0m\n\u001b[1;32m    525\u001b[0m     \u001b[0mextobj\u001b[0m \u001b[0;34m=\u001b[0m \u001b[0mget_linalg_error_extobj\u001b[0m\u001b[0;34m(\u001b[0m\u001b[0m_raise_linalgerror_singular\u001b[0m\u001b[0;34m)\u001b[0m\u001b[0;34m\u001b[0m\u001b[0m\n\u001b[0;32m--> 526\u001b[0;31m     \u001b[0mainv\u001b[0m \u001b[0;34m=\u001b[0m \u001b[0m_umath_linalg\u001b[0m\u001b[0;34m.\u001b[0m\u001b[0minv\u001b[0m\u001b[0;34m(\u001b[0m\u001b[0ma\u001b[0m\u001b[0;34m,\u001b[0m \u001b[0msignature\u001b[0m\u001b[0;34m=\u001b[0m\u001b[0msignature\u001b[0m\u001b[0;34m,\u001b[0m \u001b[0mextobj\u001b[0m\u001b[0;34m=\u001b[0m\u001b[0mextobj\u001b[0m\u001b[0;34m)\u001b[0m\u001b[0;34m\u001b[0m\u001b[0m\n\u001b[0m\u001b[1;32m    527\u001b[0m     \u001b[0;32mreturn\u001b[0m \u001b[0mwrap\u001b[0m\u001b[0;34m(\u001b[0m\u001b[0mainv\u001b[0m\u001b[0;34m.\u001b[0m\u001b[0mastype\u001b[0m\u001b[0;34m(\u001b[0m\u001b[0mresult_t\u001b[0m\u001b[0;34m,\u001b[0m \u001b[0mcopy\u001b[0m\u001b[0;34m=\u001b[0m\u001b[0;32mFalse\u001b[0m\u001b[0;34m)\u001b[0m\u001b[0;34m)\u001b[0m\u001b[0;34m\u001b[0m\u001b[0m\n\u001b[1;32m    528\u001b[0m \u001b[0;34m\u001b[0m\u001b[0m\n",
      "\u001b[0;31mKeyboardInterrupt\u001b[0m: "
     ]
    }
   ],
   "source": [
    "# Hessian optimization\n",
    "def hessian_opt(f, grad_f, x_init, eta, tolerance, verbose=False):\n",
    "    x_history = []\n",
    "\n",
    "    x_old = x_init\n",
    "    x_history.append(x_old)\n",
    "\n",
    "    counter = 0\n",
    "\n",
    "    while np.linalg.norm(grad_f(x_old)) > tolerance:\n",
    "        x_new = x_old - eta*np.dot(np.linalg.inv(hess_f(x_old)), grad_f(x_old))\n",
    "        x_history.append(x_new)\n",
    "\n",
    "        x_old = x_new\n",
    "        counter += 1\n",
    "\n",
    "        if verbose and counter % 100 == 0:\n",
    "            print(counter, f(x_old))\n",
    "    \n",
    "    return counter, x_history\n",
    "\n",
    "num_iterations, x_history = hessian_opt(f, grad_f, x_init=np.random.randn(N), eta=0.1/N, tolerance=1e-9)"
   ]
  },
  {
   "cell_type": "code",
   "execution_count": null,
   "metadata": {
    "collapsed": true
   },
   "outputs": [],
   "source": []
  }
 ],
 "metadata": {
  "kernelspec": {
   "display_name": "Python 3",
   "language": "python",
   "name": "python3"
  },
  "language_info": {
   "codemirror_mode": {
    "name": "ipython",
    "version": 3
   },
   "file_extension": ".py",
   "mimetype": "text/x-python",
   "name": "python",
   "nbconvert_exporter": "python",
   "pygments_lexer": "ipython3",
   "version": "3.5.0"
  }
 },
 "nbformat": 4,
 "nbformat_minor": 0
}
